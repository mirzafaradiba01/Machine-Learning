{
  "cells": [
    {
      "cell_type": "markdown",
      "metadata": {
        "id": "view-in-github",
        "colab_type": "text"
      },
      "source": [
        "<a href=\"https://colab.research.google.com/github/mirzafaradiba01/Machine-Learning/blob/main/3A_18_Mirza_Priscilla_Faradiba_Week10.ipynb\" target=\"_parent\"><img src=\"https://colab.research.google.com/assets/colab-badge.svg\" alt=\"Open In Colab\"/></a>"
      ]
    },
    {
      "cell_type": "markdown",
      "metadata": {
        "id": "EgZhgMAtY_jc"
      },
      "source": [
        "**Nama : Mirza Priscilla Faradiba**\n",
        "\n",
        "**Kelas : TI-3A**\n",
        "\n",
        "**No.Absen : 18**\n",
        "\n",
        "**Materi :Recurrent Neural Network (RNN)**"
      ]
    },
    {
      "cell_type": "markdown",
      "metadata": {
        "id": "MwkjoD3tZmRa"
      },
      "source": [
        "#PRAKTIKUM 1"
      ]
    },
    {
      "cell_type": "markdown",
      "metadata": {
        "id": "NDaUvX-VZojW"
      },
      "source": [
        "**RNN untuk Analisis Sentimen**"
      ]
    },
    {
      "cell_type": "markdown",
      "metadata": {
        "id": "K_Mocy0BZrfc"
      },
      "source": [
        "###Setup"
      ]
    },
    {
      "cell_type": "markdown",
      "source": [],
      "metadata": {
        "id": "dhvyGXf7IsQI"
      }
    },
    {
      "cell_type": "code",
      "execution_count": null,
      "metadata": {
        "id": "TKVC664wY6k6"
      },
      "outputs": [],
      "source": [
        "import numpy as np\n",
        "import tensorflow_datasets as tfds\n",
        "import tensorflow as tf\n",
        "\n",
        "tfds.disable_progress_bar()"
      ]
    },
    {
      "cell_type": "code",
      "execution_count": null,
      "metadata": {
        "id": "uyaTa0UAZuyt"
      },
      "outputs": [],
      "source": [
        "import matplotlib.pyplot as plt\n",
        "\n",
        "def plot_graphs(history, metric):\n",
        "  plt.plot(history.history[metric])\n",
        "  plt.plot(history.history['val_'+metric], '')\n",
        "  plt.xlabel(\"Epochs\")\n",
        "  plt.ylabel(metric)\n",
        "  plt.legend([metric, 'val_'+metric])"
      ]
    },
    {
      "cell_type": "markdown",
      "metadata": {
        "id": "dP5EJsSIaAog"
      },
      "source": [
        "###Setup input pipeline"
      ]
    },
    {
      "cell_type": "code",
      "execution_count": null,
      "metadata": {
        "colab": {
          "base_uri": "https://localhost:8080/"
        },
        "id": "65p_n1m0aEBH",
        "outputId": "7c2b8eb5-4c58-43ea-e2ab-ceaa72738c26"
      },
      "outputs": [
        {
          "output_type": "execute_result",
          "data": {
            "text/plain": [
              "(TensorSpec(shape=(), dtype=tf.string, name=None),\n",
              " TensorSpec(shape=(), dtype=tf.int64, name=None))"
            ]
          },
          "metadata": {},
          "execution_count": 107
        }
      ],
      "source": [
        "dataset, info = tfds.load('imdb_reviews', with_info=True,\n",
        "                          as_supervised=True)\n",
        "train_dataset, test_dataset = dataset['train'], dataset['test']\n",
        "\n",
        "train_dataset.element_spec"
      ]
    },
    {
      "cell_type": "code",
      "execution_count": null,
      "metadata": {
        "colab": {
          "base_uri": "https://localhost:8080/"
        },
        "id": "GwbH8q5sak9u",
        "outputId": "1a73ce7f-31fd-491d-b19e-215e793bc416"
      },
      "outputs": [
        {
          "output_type": "stream",
          "name": "stdout",
          "text": [
            "text:  b\"This was an absolutely terrible movie. Don't be lured in by Christopher Walken or Michael Ironside. Both are great actors, but this must simply be their worst role in history. Even their great acting could not redeem this movie's ridiculous storyline. This movie is an early nineties US propaganda piece. The most pathetic scenes were those when the Columbian rebels were making their cases for revolutions. Maria Conchita Alonso appeared phony, and her pseudo-love affair with Walken was nothing but a pathetic emotional plug in a movie that was devoid of any real meaning. I am disappointed that there are movies like this, ruining actor's like Christopher Walken's good name. I could barely sit through it.\"\n",
            "label:  0\n"
          ]
        }
      ],
      "source": [
        "for example, label in train_dataset.take(1):\n",
        "  print('text: ', example.numpy())\n",
        "  print('label: ', label.numpy())"
      ]
    },
    {
      "cell_type": "code",
      "execution_count": null,
      "metadata": {
        "colab": {
          "base_uri": "https://localhost:8080/"
        },
        "id": "IQGpQ8dNanwD",
        "outputId": "07594cf8-e836-4bb1-a1ea-4e7784b775ec"
      },
      "outputs": [
        {
          "output_type": "stream",
          "name": "stdout",
          "text": [
            "texts:  [b\"Maybe I'm being too generous with the rating...but I just love this movie! I've seen it so many times, but every time I see it I fall in love with it all over again. It's just a simple romantic comedy, with nothing huge or monumentous that happens. But I'm a big romantic and this movie *is* romantic. I love Meg Ryan and Tim Robbins, and Walter Mathau is so funny. The scientists make me laugh so much...I definitely recommend this movie to anyone who hasn't seen it. It's such a clean, good movie - and those are so rare now! My 20-year-old brother likes this movie, too, so it's not just a chick-flick. ;-) I recommend it if you need to laugh, or if you're just lonely and need to *watch* a romance, if you yourself can't participate in one. It's a good 'un!\"\n",
            " b\"Full Moon High (1981) 3 of 5 Dir: Larry Cohen Stars: Adam Arkin, Ed McMahon, Roz Kelly<br /><br />Tony (Arkin) is your average ordinary high school guy. Prepping for the big homecoming game, girlfriend trouble and growing hair in strange places\\xc2\\x85you know the usual. But the hair in strange places part gets a wee bit out of control when a trip to Transylvania with his father (YES! McMahon) leaves him with a wicked case of the furballs. Now doomed to walk the world forever young as a werewolf how will Adam get any girls?<br /><br />'Full Moon High' is not often talked about but it is a silly and entertaining horror spoof. Larry Cohen (Q the Winged Serpent, The Stuff) incorporates as many gags as he can possibly come up with as writer / director. Arkin (H20: Halloween, 20 Years Later) shows nice timing in the lead role. If you happen to be a fan of spoofs like 'Airplane' and 'Student Bodies' I think you'll have fun with this chuckle-fest.\"\n",
            " b\"I got this film from a private collector and was very curious about it. It had a 7,8 in IMDb (9 votes only) and some external comments were pleasant. But I have to say that it is a very usual and uninteresting giallo. Yes, great cinematography, the film is well directed, but it never freaked me out. It starts well, but although it not bored me at all, the story is so ordinary and the things that occur so normal, that I didn't like it very much.<br /><br />You can make a few laughs. And you can see some little tits. But if you like the kind of giallos I like (bizarre, surreal, nonsenseful, gory, atmospheric, brutal murders...) you won't appreciate much this film.<br /><br />I give it a 4 for the good directing and editing, and the final twists, that make the film entertaining. But it could be much better.\"]\n",
            "\n",
            "labels:  [1 1 0]\n"
          ]
        }
      ],
      "source": [
        "BUFFER_SIZE = 10000\n",
        "BATCH_SIZE = 64\n",
        "\n",
        "train_dataset = train_dataset.shuffle(BUFFER_SIZE).batch(BATCH_SIZE).prefetch(tf.data.AUTOTUNE)\n",
        "test_dataset = test_dataset.batch(BATCH_SIZE).prefetch(tf.data.AUTOTUNE)\n",
        "\n",
        "for example, label in train_dataset.take(1):\n",
        "  print('texts: ', example.numpy()[:3])\n",
        "  print()\n",
        "  print('labels: ', label.numpy()[:3])\n"
      ]
    },
    {
      "cell_type": "markdown",
      "metadata": {
        "id": "4WeMY5Graq5h"
      },
      "source": [
        "###Buat Teks Encoder"
      ]
    },
    {
      "cell_type": "code",
      "execution_count": null,
      "metadata": {
        "id": "bjspzfZ3asmP"
      },
      "outputs": [],
      "source": [
        "VOCAB_SIZE = 1000\n",
        "encoder = tf.keras.layers.TextVectorization(\n",
        "    max_tokens=VOCAB_SIZE)\n",
        "encoder.adapt(train_dataset.map(lambda text, label: text))"
      ]
    },
    {
      "cell_type": "code",
      "execution_count": null,
      "metadata": {
        "colab": {
          "base_uri": "https://localhost:8080/"
        },
        "id": "M_U4acc9axzz",
        "outputId": "1ec2ef57-5aaa-4933-e4d8-15c63cff4086"
      },
      "outputs": [
        {
          "output_type": "execute_result",
          "data": {
            "text/plain": [
              "array(['', '[UNK]', 'the', 'and', 'a', 'of', 'to', 'is', 'in', 'it', 'i',\n",
              "       'this', 'that', 'br', 'was', 'as', 'for', 'with', 'movie', 'but'],\n",
              "      dtype='<U14')"
            ]
          },
          "metadata": {},
          "execution_count": 111
        }
      ],
      "source": [
        "vocab = np.array(encoder.get_vocabulary())\n",
        "vocab[:20]"
      ]
    },
    {
      "cell_type": "code",
      "execution_count": null,
      "metadata": {
        "colab": {
          "base_uri": "https://localhost:8080/"
        },
        "id": "pcME357Xa-HB",
        "outputId": "41172f62-8a3b-4246-de90-ceb212251784"
      },
      "outputs": [
        {
          "output_type": "execute_result",
          "data": {
            "text/plain": [
              "array([[270, 142, 107, ...,   0,   0,   0],\n",
              "       [371,   1, 322, ...,   0,   0,   0],\n",
              "       [ 10, 183,  11, ...,   0,   0,   0]])"
            ]
          },
          "metadata": {},
          "execution_count": 112
        }
      ],
      "source": [
        "encoded_example = encoder(example)[:3].numpy()\n",
        "encoded_example"
      ]
    },
    {
      "cell_type": "code",
      "execution_count": null,
      "metadata": {
        "colab": {
          "base_uri": "https://localhost:8080/"
        },
        "id": "4rkTq5aSbZiA",
        "outputId": "cf1a40ad-f670-4c85-fe58-8ece59f4894c"
      },
      "outputs": [
        {
          "output_type": "stream",
          "name": "stdout",
          "text": [
            "Original:  b\"Maybe I'm being too generous with the rating...but I just love this movie! I've seen it so many times, but every time I see it I fall in love with it all over again. It's just a simple romantic comedy, with nothing huge or monumentous that happens. But I'm a big romantic and this movie *is* romantic. I love Meg Ryan and Tim Robbins, and Walter Mathau is so funny. The scientists make me laugh so much...I definitely recommend this movie to anyone who hasn't seen it. It's such a clean, good movie - and those are so rare now! My 20-year-old brother likes this movie, too, so it's not just a chick-flick. ;-) I recommend it if you need to laugh, or if you're just lonely and need to *watch* a romance, if you yourself can't participate in one. It's a good 'un!\"\n",
            "Round-trip:  maybe im being too [UNK] with the [UNK] i just love this movie ive seen it so many times but every time i see it i fall in love with it all over again its just a simple romantic comedy with nothing huge or [UNK] that happens but im a big romantic and this movie is romantic i love [UNK] [UNK] and [UNK] [UNK] and [UNK] [UNK] is so funny the [UNK] make me laugh so [UNK] definitely recommend this movie to anyone who [UNK] seen it its such a [UNK] good movie and those are so [UNK] now my [UNK] brother [UNK] this movie too so its not just a [UNK] i recommend it if you need to laugh or if youre just [UNK] and need to watch a romance if you yourself cant [UNK] in one its a good [UNK]                                                                                                                                                                                                                                                                                                                                                                                                                                                                                                                                                                                                                                                                                                                                                                                                                                                  \n",
            "\n",
            "Original:  b\"Full Moon High (1981) 3 of 5 Dir: Larry Cohen Stars: Adam Arkin, Ed McMahon, Roz Kelly<br /><br />Tony (Arkin) is your average ordinary high school guy. Prepping for the big homecoming game, girlfriend trouble and growing hair in strange places\\xc2\\x85you know the usual. But the hair in strange places part gets a wee bit out of control when a trip to Transylvania with his father (YES! McMahon) leaves him with a wicked case of the furballs. Now doomed to walk the world forever young as a werewolf how will Adam get any girls?<br /><br />'Full Moon High' is not often talked about but it is a silly and entertaining horror spoof. Larry Cohen (Q the Winged Serpent, The Stuff) incorporates as many gags as he can possibly come up with as writer / director. Arkin (H20: Halloween, 20 Years Later) shows nice timing in the lead role. If you happen to be a fan of spoofs like 'Airplane' and 'Student Bodies' I think you'll have fun with this chuckle-fest.\"\n",
            "Round-trip:  full [UNK] high [UNK] 3 of 5 [UNK] [UNK] [UNK] stars [UNK] [UNK] [UNK] [UNK] [UNK] [UNK] br [UNK] [UNK] is your average [UNK] high school guy [UNK] for the big [UNK] game [UNK] [UNK] and [UNK] [UNK] in strange [UNK] know the usual but the [UNK] in strange [UNK] part gets a [UNK] bit out of [UNK] when a [UNK] to [UNK] with his father yes [UNK] leaves him with a [UNK] case of the [UNK] now [UNK] to [UNK] the world [UNK] young as a [UNK] how will [UNK] get any [UNK] br full [UNK] high is not often [UNK] about but it is a silly and entertaining horror [UNK] [UNK] [UNK] [UNK] the [UNK] [UNK] the stuff [UNK] as many [UNK] as he can possibly come up with as writer director [UNK] [UNK] [UNK] 20 years later shows nice [UNK] in the lead role if you happen to be a fan of [UNK] like [UNK] and [UNK] [UNK] i think youll have fun with this [UNK]                                                                                                                                                                                                                                                                                                                                                                                                                                                                                                                                                                                                                                                                                                                                                                                                                       \n",
            "\n",
            "Original:  b\"I got this film from a private collector and was very curious about it. It had a 7,8 in IMDb (9 votes only) and some external comments were pleasant. But I have to say that it is a very usual and uninteresting giallo. Yes, great cinematography, the film is well directed, but it never freaked me out. It starts well, but although it not bored me at all, the story is so ordinary and the things that occur so normal, that I didn't like it very much.<br /><br />You can make a few laughs. And you can see some little tits. But if you like the kind of giallos I like (bizarre, surreal, nonsenseful, gory, atmospheric, brutal murders...) you won't appreciate much this film.<br /><br />I give it a 4 for the good directing and editing, and the final twists, that make the film entertaining. But it could be much better.\"\n",
            "Round-trip:  i got this film from a [UNK] [UNK] and was very [UNK] about it it had a [UNK] in imdb [UNK] [UNK] only and some [UNK] comments were [UNK] but i have to say that it is a very usual and [UNK] [UNK] yes great cinematography the film is well directed but it never [UNK] me out it starts well but although it not [UNK] me at all the story is so [UNK] and the things that [UNK] so [UNK] that i didnt like it very [UNK] br you can make a few laughs and you can see some little [UNK] but if you like the kind of [UNK] i like [UNK] [UNK] [UNK] [UNK] [UNK] [UNK] [UNK] you wont [UNK] much this filmbr br i give it a 4 for the good directing and editing and the final [UNK] that make the film entertaining but it could be much better                                                                                                                                                                                                                                                                                                                                                                                                                                                                                                                                                                                                                                                                                                                                                                                                                                         \n",
            "\n"
          ]
        }
      ],
      "source": [
        "for n in range(3):\n",
        "  print(\"Original: \", example[n].numpy())\n",
        "  print(\"Round-trip: \", \" \".join(vocab[encoded_example[n]]))\n",
        "  print()"
      ]
    },
    {
      "cell_type": "markdown",
      "metadata": {
        "id": "6pb7-nUmbdqr"
      },
      "source": [
        "###Buat Model"
      ]
    },
    {
      "cell_type": "code",
      "execution_count": null,
      "metadata": {
        "id": "vRtnBhvrbZbQ"
      },
      "outputs": [],
      "source": [
        "model = tf.keras.Sequential([\n",
        "    encoder,\n",
        "    tf.keras.layers.Embedding(\n",
        "        input_dim=len(encoder.get_vocabulary()),\n",
        "        output_dim=64,\n",
        "        # Use masking to handle the variable sequence lengths\n",
        "        mask_zero=True),\n",
        "    tf.keras.layers.Bidirectional(tf.keras.layers.LSTM(64)),\n",
        "    tf.keras.layers.Dense(64, activation='relu'),\n",
        "    tf.keras.layers.Dense(1)\n",
        "])"
      ]
    },
    {
      "cell_type": "code",
      "execution_count": null,
      "metadata": {
        "colab": {
          "base_uri": "https://localhost:8080/"
        },
        "id": "-3toeGn-bkKn",
        "outputId": "2a092b1e-0177-4cd3-c7d4-893e85f97691"
      },
      "outputs": [
        {
          "output_type": "stream",
          "name": "stdout",
          "text": [
            "[False, True, True, True, True]\n"
          ]
        }
      ],
      "source": [
        "print([layer.supports_masking for layer in model.layers])"
      ]
    },
    {
      "cell_type": "code",
      "execution_count": null,
      "metadata": {
        "colab": {
          "base_uri": "https://localhost:8080/"
        },
        "id": "9w-AGb9nebf4",
        "outputId": "3d61fb2a-71fd-4f3f-c27e-4b6755240ffb"
      },
      "outputs": [
        {
          "output_type": "stream",
          "name": "stdout",
          "text": [
            "1/1 [==============================] - 3s 3s/step\n",
            "[0.00814155]\n"
          ]
        }
      ],
      "source": [
        "# predict on a sample text without padding.\n",
        "\n",
        "sample_text = ('The movie was cool. The animation and the graphics '\n",
        "               'were out of this world. I would recommend this movie.')\n",
        "predictions = model.predict(np.array([sample_text]))\n",
        "print(predictions[0])"
      ]
    },
    {
      "cell_type": "code",
      "execution_count": null,
      "metadata": {
        "colab": {
          "base_uri": "https://localhost:8080/"
        },
        "id": "2UULZJgEeezy",
        "outputId": "53346a6a-70aa-4335-c502-f15c21ef676b"
      },
      "outputs": [
        {
          "output_type": "stream",
          "name": "stdout",
          "text": [
            "1/1 [==============================] - 0s 91ms/step\n",
            "[0.00814155]\n"
          ]
        }
      ],
      "source": [
        "# predict on a sample text with padding\n",
        "\n",
        "padding = \"the \" * 2000\n",
        "predictions = model.predict(np.array([sample_text, padding]))\n",
        "print(predictions[0])"
      ]
    },
    {
      "cell_type": "code",
      "execution_count": null,
      "metadata": {
        "id": "6rlIjgNSejr-"
      },
      "outputs": [],
      "source": [
        "model.compile(loss=tf.keras.losses.BinaryCrossentropy(from_logits=True),\n",
        "              optimizer=tf.keras.optimizers.Adam(1e-4),\n",
        "              metrics=['accuracy'])"
      ]
    },
    {
      "cell_type": "markdown",
      "metadata": {
        "id": "_GbL_mO5enCK"
      },
      "source": [
        "###Train Model"
      ]
    },
    {
      "cell_type": "code",
      "execution_count": null,
      "metadata": {
        "colab": {
          "base_uri": "https://localhost:8080/"
        },
        "id": "fL__D6fUeoS3",
        "outputId": "99f5134c-961b-4999-c665-12c5ab27855f"
      },
      "outputs": [
        {
          "output_type": "stream",
          "name": "stdout",
          "text": [
            "Epoch 1/10\n",
            "391/391 [==============================] - 43s 89ms/step - loss: 0.6397 - accuracy: 0.5778 - val_loss: 0.5284 - val_accuracy: 0.7198\n",
            "Epoch 2/10\n",
            "391/391 [==============================] - 26s 66ms/step - loss: 0.4882 - accuracy: 0.7523 - val_loss: 0.4619 - val_accuracy: 0.8016\n",
            "Epoch 3/10\n",
            "391/391 [==============================] - 28s 71ms/step - loss: 0.3887 - accuracy: 0.8257 - val_loss: 0.3812 - val_accuracy: 0.8448\n",
            "Epoch 4/10\n",
            "391/391 [==============================] - 26s 65ms/step - loss: 0.3434 - accuracy: 0.8488 - val_loss: 0.3392 - val_accuracy: 0.8568\n",
            "Epoch 5/10\n",
            "391/391 [==============================] - 25s 63ms/step - loss: 0.3224 - accuracy: 0.8596 - val_loss: 0.3279 - val_accuracy: 0.8568\n",
            "Epoch 6/10\n",
            "391/391 [==============================] - 24s 61ms/step - loss: 0.3142 - accuracy: 0.8645 - val_loss: 0.3277 - val_accuracy: 0.8500\n",
            "Epoch 7/10\n",
            "391/391 [==============================] - 24s 61ms/step - loss: 0.3082 - accuracy: 0.8688 - val_loss: 0.3241 - val_accuracy: 0.8583\n",
            "Epoch 8/10\n",
            "391/391 [==============================] - 25s 63ms/step - loss: 0.3028 - accuracy: 0.8704 - val_loss: 0.3213 - val_accuracy: 0.8641\n",
            "Epoch 9/10\n",
            "391/391 [==============================] - 25s 63ms/step - loss: 0.3024 - accuracy: 0.8710 - val_loss: 0.3201 - val_accuracy: 0.8635\n",
            "Epoch 10/10\n",
            "391/391 [==============================] - 25s 63ms/step - loss: 0.2999 - accuracy: 0.8727 - val_loss: 0.3220 - val_accuracy: 0.8542\n"
          ]
        }
      ],
      "source": [
        "history = model.fit(train_dataset, epochs=10,\n",
        "                    validation_data=test_dataset,\n",
        "                    validation_steps=30)"
      ]
    },
    {
      "cell_type": "code",
      "execution_count": null,
      "metadata": {
        "id": "wl4Eq6oODwAH",
        "colab": {
          "base_uri": "https://localhost:8080/"
        },
        "outputId": "919db2e0-818f-4ee3-db2d-53ca413b79e9"
      },
      "outputs": [
        {
          "output_type": "stream",
          "name": "stdout",
          "text": [
            "391/391 [==============================] - 11s 28ms/step - loss: 0.3184 - accuracy: 0.8526\n",
            "Test Loss:  0.31844455003738403\n",
            "Test Accuracy :  0.8525999784469604\n"
          ]
        }
      ],
      "source": [
        "test_loss, test_acc = model.evaluate(test_dataset)\n",
        "\n",
        "print('Test Loss: ', test_loss)\n",
        "print('Test Accuracy : ', test_acc)"
      ]
    },
    {
      "cell_type": "code",
      "source": [
        "plt.figure(figsize=(16, 8))\n",
        "plt.subplot(1, 2, 1)\n",
        "plot_graphs(history, 'accuracy')\n",
        "plt.ylim(None, 1)\n",
        "plt.subplot(1, 2, 2)\n",
        "plot_graphs(history, 'loss')\n",
        "plt.ylim(0, None)"
      ],
      "metadata": {
        "colab": {
          "base_uri": "https://localhost:8080/",
          "height": 718
        },
        "id": "-LXZzBfsEZWA",
        "outputId": "1a4b4a46-80f0-419a-da09-0a860c6cd8d2"
      },
      "execution_count": null,
      "outputs": [
        {
          "output_type": "execute_result",
          "data": {
            "text/plain": [
              "(0.0, 0.6566410750150681)"
            ]
          },
          "metadata": {},
          "execution_count": 121
        },
        {
          "output_type": "display_data",
          "data": {
            "text/plain": [
              "<Figure size 1600x800 with 2 Axes>"
            ],
            "image/png": "[encoded data removed]"
          },
          "metadata": {}
        }
      ]
    },
    {
      "cell_type": "code",
      "source": [
        "sample_text = ('The movie was cool. The animation and the graphics'\n",
        "                'were out of this world. I would recommend this movie.')\n",
        "predictions = model.predict(np.array([sample_text]))"
      ],
      "metadata": {
        "colab": {
          "base_uri": "https://localhost:8080/"
        },
        "id": "8UXcrrfVEdFj",
        "outputId": "a394afc6-29fe-4e3e-ace0-3f5b082ac70e"
      },
      "execution_count": null,
      "outputs": [
        {
          "output_type": "stream",
          "name": "stderr",
          "text": [
            "WARNING:tensorflow:5 out of the last 7 calls to <function Model.make_predict_function.<locals>.predict_function at 0x7ebcae5b4af0> triggered tf.function retracing. Tracing is expensive and the excessive number of tracings could be due to (1) creating @tf.function repeatedly in a loop, (2) passing tensors with different shapes, (3) passing Python objects instead of tensors. For (1), please define your @tf.function outside of the loop. For (2), @tf.function has reduce_retracing=True option that can avoid unnecessary retracing. For (3), please refer to https://www.tensorflow.org/guide/function#controlling_retracing and https://www.tensorflow.org/api_docs/python/tf/function for  more details.\n"
          ]
        },
        {
          "output_type": "stream",
          "name": "stdout",
          "text": [
            "1/1 [==============================] - 2s 2s/step\n"
          ]
        }
      ]
    },
    {
      "cell_type": "markdown",
      "source": [
        "### Stack two or more LSTM layers"
      ],
      "metadata": {
        "id": "izdhdJOwEiF3"
      }
    },
    {
      "cell_type": "code",
      "source": [
        "model = tf.keras.Sequential([\n",
        "    encoder,\n",
        "    tf.keras.layers.Embedding(len(encoder.get_vocabulary()), 64, mask_zero=True),\n",
        "    tf.keras.layers.Bidirectional(tf.keras.layers.LSTM(64, return_sequences=True)),\n",
        "    tf.keras.layers.Bidirectional(tf.keras.layers.LSTM(32)),\n",
        "    tf.keras.layers.Dense(64, activation='relu'),\n",
        "    tf.keras.layers.Dropout(0.5),\n",
        "    tf.keras.layers.Dense(1)\n",
        "])"
      ],
      "metadata": {
        "id": "sNSiddDMEmLV"
      },
      "execution_count": null,
      "outputs": []
    },
    {
      "cell_type": "code",
      "source": [
        "model.compile(loss=tf.keras.losses.BinaryCrossentropy(from_logits=True),\n",
        "              optimizer = tf.keras.optimizers.Adam(1e-4),\n",
        "              metrics=['accuracy'])"
      ],
      "metadata": {
        "id": "1FZhBEGTEyXk"
      },
      "execution_count": null,
      "outputs": []
    },
    {
      "cell_type": "code",
      "source": [
        "history = model.fit(train_dataset, epochs=10,\n",
        "                    validation_data=test_dataset,\n",
        "                    validation_steps=30)"
      ],
      "metadata": {
        "colab": {
          "base_uri": "https://localhost:8080/"
        },
        "id": "8eqXBAVEFeVA",
        "outputId": "cfe0dbbb-46de-4774-8c64-05d9d4831bb5"
      },
      "execution_count": null,
      "outputs": [
        {
          "output_type": "stream",
          "name": "stdout",
          "text": [
            "Epoch 1/10\n",
            "391/391 [==============================] - 77s 151ms/step - loss: 0.6541 - accuracy: 0.5564 - val_loss: 0.4684 - val_accuracy: 0.7781\n",
            "Epoch 2/10\n",
            "391/391 [==============================] - 47s 120ms/step - loss: 0.4003 - accuracy: 0.8264 - val_loss: 0.3647 - val_accuracy: 0.8281\n",
            "Epoch 3/10\n",
            "391/391 [==============================] - 46s 117ms/step - loss: 0.3430 - accuracy: 0.8535 - val_loss: 0.3340 - val_accuracy: 0.8510\n",
            "Epoch 4/10\n",
            "391/391 [==============================] - 49s 125ms/step - loss: 0.3313 - accuracy: 0.8578 - val_loss: 0.3309 - val_accuracy: 0.8542\n",
            "Epoch 5/10\n",
            "391/391 [==============================] - 45s 116ms/step - loss: 0.3158 - accuracy: 0.8653 - val_loss: 0.3341 - val_accuracy: 0.8552\n",
            "Epoch 6/10\n",
            "391/391 [==============================] - 45s 114ms/step - loss: 0.3130 - accuracy: 0.8668 - val_loss: 0.3168 - val_accuracy: 0.8609\n",
            "Epoch 7/10\n",
            "391/391 [==============================] - 46s 118ms/step - loss: 0.3110 - accuracy: 0.8671 - val_loss: 0.3206 - val_accuracy: 0.8594\n",
            "Epoch 8/10\n",
            "391/391 [==============================] - 48s 122ms/step - loss: 0.3024 - accuracy: 0.8686 - val_loss: 0.3139 - val_accuracy: 0.8625\n",
            "Epoch 9/10\n",
            "391/391 [==============================] - 49s 125ms/step - loss: 0.3012 - accuracy: 0.8689 - val_loss: 0.3144 - val_accuracy: 0.8604\n",
            "Epoch 10/10\n",
            "391/391 [==============================] - 49s 126ms/step - loss: 0.2998 - accuracy: 0.8710 - val_loss: 0.3332 - val_accuracy: 0.8526\n"
          ]
        }
      ]
    },
    {
      "cell_type": "code",
      "source": [
        "test_loss, test_acc = model.evaluate(test_dataset)\n",
        "\n",
        "print('Test Loss:', test_loss)\n",
        "print('Test Accuracy:', test_acc)"
      ],
      "metadata": {
        "colab": {
          "base_uri": "https://localhost:8080/"
        },
        "id": "A0GlBSQYFjmq",
        "outputId": "4780bedc-0f1a-46d1-c6b9-102db8384d09"
      },
      "execution_count": null,
      "outputs": [
        {
          "output_type": "stream",
          "name": "stdout",
          "text": [
            "391/391 [==============================] - 20s 52ms/step - loss: 0.3320 - accuracy: 0.8496\n",
            "Test Loss: 0.3319918215274811\n",
            "Test Accuracy: 0.8496000170707703\n"
          ]
        }
      ]
    },
    {
      "cell_type": "code",
      "execution_count": null,
      "metadata": {
        "id": "Fd2Jshr9ERR_",
        "colab": {
          "base_uri": "https://localhost:8080/"
        },
        "outputId": "6acf5b47-5a81-4f83-f29f-5b83fd8c524a"
      },
      "outputs": [
        {
          "output_type": "stream",
          "name": "stderr",
          "text": [
            "WARNING:tensorflow:6 out of the last 8 calls to <function Model.make_predict_function.<locals>.predict_function at 0x7ebc21b9bf40> triggered tf.function retracing. Tracing is expensive and the excessive number of tracings could be due to (1) creating @tf.function repeatedly in a loop, (2) passing tensors with different shapes, (3) passing Python objects instead of tensors. For (1), please define your @tf.function outside of the loop. For (2), @tf.function has reduce_retracing=True option that can avoid unnecessary retracing. For (3), please refer to https://www.tensorflow.org/guide/function#controlling_retracing and https://www.tensorflow.org/api_docs/python/tf/function for  more details.\n"
          ]
        },
        {
          "output_type": "stream",
          "name": "stdout",
          "text": [
            "1/1 [==============================] - 5s 5s/step\n",
            "[[-1.2936199]]\n"
          ]
        }
      ],
      "source": [
        "# predict on a sample text without padding\n",
        "\n",
        "sample_text = ('The movie was not good. The animation and the graphics'\n",
        "                'were terrible. I would not recommend this movie.')\n",
        "\n",
        "predictions = model.predict(np.array([sample_text]))\n",
        "print(predictions)"
      ]
    },
    {
      "cell_type": "code",
      "execution_count": null,
      "metadata": {
        "id": "NFm1RzzKFSpQ",
        "colab": {
          "base_uri": "https://localhost:8080/",
          "height": 542
        },
        "outputId": "b99107ed-30db-41d3-bd30-09852f6c9892"
      },
      "outputs": [
        {
          "output_type": "display_data",
          "data": {
            "text/plain": [
              "<Figure size 1600x600 with 2 Axes>"
            ],
            "image/png": "[encoded data removed]"
          },
          "metadata": {}
        }
      ],
      "source": [
        "plt.figure(figsize=(16,6))\n",
        "plt.subplot(1,2,1)\n",
        "plot_graphs(history, 'accuracy')\n",
        "plt.subplot(1,2,2)\n",
        "plot_graphs(history, 'loss')"
      ]
    },
    {
      "cell_type": "markdown",
      "metadata": {
        "id": "Mjom8l7_FuNR"
      },
      "source": [
        "#PRAKTIKUM 2"
      ]
    },
    {
      "cell_type": "markdown",
      "metadata": {
        "id": "aPcYVUADGQQM"
      },
      "source": [
        "**Generator Teks dengan RNN**"
      ]
    },
    {
      "cell_type": "markdown",
      "source": [
        "**Import TensorFlow**"
      ],
      "metadata": {
        "id": "YD2kaAM_7WcE"
      }
    },
    {
      "cell_type": "code",
      "execution_count": null,
      "metadata": {
        "id": "rIlqKqTTFyTz"
      },
      "outputs": [],
      "source": [
        "import tensorflow as tf\n",
        "import numpy as np\n",
        "import os\n",
        "import time"
      ]
    },
    {
      "cell_type": "markdown",
      "source": [
        "**Download Dataset Shakespeare**"
      ],
      "metadata": {
        "id": "mRLqdLNp7Sdp"
      }
    },
    {
      "cell_type": "code",
      "source": [
        "path_to_file = tf.keras.utils.get_file('shakespeare.txt', 'https://storage.googleapis.com/download.tensorflow.org/data/shakespeare.txt')"
      ],
      "metadata": {
        "id": "2t0tCK6a7bkc"
      },
      "execution_count": null,
      "outputs": []
    },
    {
      "cell_type": "code",
      "source": [
        "# Read, the people decode for py2 compat.\n",
        "text = open(path_to_file, 'rb').read().decode(encoding = 'utf-8')\n",
        "\n",
        "# length of text is the number characters in it\n",
        "print(f'Length of text : {len(text)}characters')"
      ],
      "metadata": {
        "colab": {
          "base_uri": "https://localhost:8080/"
        },
        "id": "KR8POdeU8GiE",
        "outputId": "42e328dc-4aeb-4cf9-e234-21735009cf49"
      },
      "execution_count": null,
      "outputs": [
        {
          "output_type": "stream",
          "name": "stdout",
          "text": [
            "Length of text : 1115394characters\n"
          ]
        }
      ]
    },
    {
      "cell_type": "code",
      "source": [
        "# Take a look at the first 250 characters in text\n",
        "print(text[:250])"
      ],
      "metadata": {
        "colab": {
          "base_uri": "https://localhost:8080/"
        },
        "id": "PXaPR4eq8tsi",
        "outputId": "bb2bb1ca-bcb9-48b2-a50d-83ecd0d52725"
      },
      "execution_count": null,
      "outputs": [
        {
          "output_type": "stream",
          "name": "stdout",
          "text": [
            "First Citizen:\n",
            "Before we proceed any further, hear me speak.\n",
            "\n",
            "All:\n",
            "Speak, speak.\n",
            "\n",
            "First Citizen:\n",
            "You are all resolved rather to die than to famish?\n",
            "\n",
            "All:\n",
            "Resolved. resolved.\n",
            "\n",
            "First Citizen:\n",
            "First, you know Caius Marcius is chief enemy to the people.\n",
            "\n"
          ]
        }
      ]
    },
    {
      "cell_type": "code",
      "source": [
        "# The unique characters in the file\n",
        "vocab = sorted(set(text))\n",
        "print(f'{len(vocab)} unique characters')"
      ],
      "metadata": {
        "colab": {
          "base_uri": "https://localhost:8080/"
        },
        "id": "WIJf8Wj284Lm",
        "outputId": "88637bdf-055e-4ac6-bb67-3147d27db237"
      },
      "execution_count": null,
      "outputs": [
        {
          "output_type": "stream",
          "name": "stdout",
          "text": [
            "65 unique characters\n"
          ]
        }
      ]
    },
    {
      "cell_type": "markdown",
      "source": [
        "###Olah Teks"
      ],
      "metadata": {
        "id": "nFeboJiHCox6"
      }
    },
    {
      "cell_type": "markdown",
      "source": [
        "**Vectorize Teks**"
      ],
      "metadata": {
        "id": "A2xSfWrg9IwZ"
      }
    },
    {
      "cell_type": "code",
      "source": [
        "example_texts = ['abcdefg', 'xyz']\n",
        "chars = tf.strings.unicode_split(example_texts, input_encoding='UTF-8')\n",
        "chars"
      ],
      "metadata": {
        "colab": {
          "base_uri": "https://localhost:8080/"
        },
        "id": "xDuF0T0Q9LSa",
        "outputId": "cf9d5f5c-ff8d-42f9-e29f-f0997166bd58"
      },
      "execution_count": null,
      "outputs": [
        {
          "output_type": "execute_result",
          "data": {
            "text/plain": [
              "<tf.RaggedTensor [[b'a', b'b', b'c', b'd', b'e', b'f', b'g'], [b'x', b'y', b'z']]>"
            ]
          },
          "metadata": {},
          "execution_count": 134
        }
      ]
    },
    {
      "cell_type": "markdown",
      "source": [
        "sekarang buat tf.keras.layers.StringLookup layer:"
      ],
      "metadata": {
        "id": "i_H3hfHV9uBA"
      }
    },
    {
      "cell_type": "code",
      "source": [
        "ids_from_chars = tf.keras.layers.StringLookup(\n",
        "    vocabulary = list(vocab), mask_token=None\n",
        ")"
      ],
      "metadata": {
        "id": "_4LPLJwe9rJH"
      },
      "execution_count": null,
      "outputs": []
    },
    {
      "cell_type": "markdown",
      "source": [
        "perintah diatas mengconvert token menjadi id"
      ],
      "metadata": {
        "id": "ewGv1oz6-AXS"
      }
    },
    {
      "cell_type": "code",
      "source": [
        "ids = ids_from_chars(chars)\n",
        "ids"
      ],
      "metadata": {
        "colab": {
          "base_uri": "https://localhost:8080/"
        },
        "id": "qgg592d-9_34",
        "outputId": "2144ba66-36d1-4cd7-897d-bb6051b180e2"
      },
      "execution_count": null,
      "outputs": [
        {
          "output_type": "execute_result",
          "data": {
            "text/plain": [
              "<tf.RaggedTensor [[40, 41, 42, 43, 44, 45, 46], [63, 64, 65]]>"
            ]
          },
          "metadata": {},
          "execution_count": 136
        }
      ]
    },
    {
      "cell_type": "code",
      "source": [
        "chars_from_ids = tf.keras.layers.StringLookup(\n",
        "    vocabulary = ids_from_chars.get_vocabulary(),\n",
        "    invert = True, mask_token = None\n",
        ")"
      ],
      "metadata": {
        "id": "Ru6oRKls-Pq_"
      },
      "execution_count": null,
      "outputs": []
    },
    {
      "cell_type": "code",
      "source": [
        "chars = chars_from_ids(ids)\n",
        "chars"
      ],
      "metadata": {
        "colab": {
          "base_uri": "https://localhost:8080/"
        },
        "id": "RA7TlnWE-oTQ",
        "outputId": "060215d4-b8b2-43f3-e27a-7a4463db30f4"
      },
      "execution_count": null,
      "outputs": [
        {
          "output_type": "execute_result",
          "data": {
            "text/plain": [
              "<tf.RaggedTensor [[b'a', b'b', b'c', b'd', b'e', b'f', b'g'], [b'x', b'y', b'z']]>"
            ]
          },
          "metadata": {},
          "execution_count": 138
        }
      ]
    },
    {
      "cell_type": "code",
      "source": [
        "tf.strings.reduce_join(chars, axis=-1).numpy()"
      ],
      "metadata": {
        "colab": {
          "base_uri": "https://localhost:8080/"
        },
        "id": "SwB81EcA_tPL",
        "outputId": "d923d45b-a5f6-41d9-fba2-7cc134faaab6"
      },
      "execution_count": null,
      "outputs": [
        {
          "output_type": "execute_result",
          "data": {
            "text/plain": [
              "array([b'abcdefg', b'xyz'], dtype=object)"
            ]
          },
          "metadata": {},
          "execution_count": 139
        }
      ]
    },
    {
      "cell_type": "code",
      "source": [
        "def text_from_ids(ids):\n",
        "  return tf.strings.reduce_join(chars_from_ids(ids), axis=-1)"
      ],
      "metadata": {
        "id": "I8ewqUh5_wJI"
      },
      "execution_count": null,
      "outputs": []
    },
    {
      "cell_type": "markdown",
      "source": [
        "**Prediksi**\n",
        "\n",
        "**Membuat Trianing Set dan Target**"
      ],
      "metadata": {
        "id": "CJyK0-fV_3VA"
      }
    },
    {
      "cell_type": "code",
      "source": [
        "all_ids = ids_from_chars(tf.strings.unicode_split(text, 'UTF-8'))\n",
        "all_ids"
      ],
      "metadata": {
        "colab": {
          "base_uri": "https://localhost:8080/"
        },
        "id": "Tap0gHWUAVTj",
        "outputId": "dde84760-bd27-4f12-f9f1-2797e976b068"
      },
      "execution_count": null,
      "outputs": [
        {
          "output_type": "execute_result",
          "data": {
            "text/plain": [
              "<tf.Tensor: shape=(1115394,), dtype=int64, numpy=array([19, 48, 57, ..., 46,  9,  1])>"
            ]
          },
          "metadata": {},
          "execution_count": 141
        }
      ]
    },
    {
      "cell_type": "code",
      "source": [
        "ids_dataset = tf.data.Dataset.from_tensor_slices(all_ids)"
      ],
      "metadata": {
        "id": "O_O25TGBAZHt"
      },
      "execution_count": null,
      "outputs": []
    },
    {
      "cell_type": "code",
      "source": [
        "for ids in ids_dataset.take(10):\n",
        "  print(chars_from_ids(ids).numpy().decode('utf-8'))"
      ],
      "metadata": {
        "colab": {
          "base_uri": "https://localhost:8080/"
        },
        "id": "LoAgGCcUAbFc",
        "outputId": "418debee-c4e4-4745-dcd4-c4e136f011ab"
      },
      "execution_count": null,
      "outputs": [
        {
          "output_type": "stream",
          "name": "stdout",
          "text": [
            "F\n",
            "i\n",
            "r\n",
            "s\n",
            "t\n",
            " \n",
            "C\n",
            "i\n",
            "t\n",
            "i\n"
          ]
        }
      ]
    },
    {
      "cell_type": "code",
      "source": [
        "seq_length = 100"
      ],
      "metadata": {
        "id": "l3sr7zfbAfaW"
      },
      "execution_count": null,
      "outputs": []
    },
    {
      "cell_type": "code",
      "source": [
        "sequences = ids_dataset.batch(seq_length+1, drop_remainder=True)\n",
        "\n",
        "for seq in sequences.take(1):\n",
        "  print(chars_from_ids(seq))"
      ],
      "metadata": {
        "colab": {
          "base_uri": "https://localhost:8080/"
        },
        "id": "euJxXkPMAisR",
        "outputId": "3368b104-5efc-471c-d9fc-6395b553e8dd"
      },
      "execution_count": null,
      "outputs": [
        {
          "output_type": "stream",
          "name": "stdout",
          "text": [
            "tf.Tensor(\n",
            "[b'F' b'i' b'r' b's' b't' b' ' b'C' b'i' b't' b'i' b'z' b'e' b'n' b':'\n",
            " b'\\n' b'B' b'e' b'f' b'o' b'r' b'e' b' ' b'w' b'e' b' ' b'p' b'r' b'o'\n",
            " b'c' b'e' b'e' b'd' b' ' b'a' b'n' b'y' b' ' b'f' b'u' b'r' b't' b'h'\n",
            " b'e' b'r' b',' b' ' b'h' b'e' b'a' b'r' b' ' b'm' b'e' b' ' b's' b'p'\n",
            " b'e' b'a' b'k' b'.' b'\\n' b'\\n' b'A' b'l' b'l' b':' b'\\n' b'S' b'p' b'e'\n",
            " b'a' b'k' b',' b' ' b's' b'p' b'e' b'a' b'k' b'.' b'\\n' b'\\n' b'F' b'i'\n",
            " b'r' b's' b't' b' ' b'C' b'i' b't' b'i' b'z' b'e' b'n' b':' b'\\n' b'Y'\n",
            " b'o' b'u' b' '], shape=(101,), dtype=string)\n"
          ]
        }
      ]
    },
    {
      "cell_type": "code",
      "source": [
        "for seq in sequences.take(5):\n",
        "  print(text_from_ids(seq).numpy())"
      ],
      "metadata": {
        "colab": {
          "base_uri": "https://localhost:8080/"
        },
        "id": "1n1LJjYrAlbN",
        "outputId": "320856bf-9469-403b-8d94-63becd6b9d25"
      },
      "execution_count": null,
      "outputs": [
        {
          "output_type": "stream",
          "name": "stdout",
          "text": [
            "b'First Citizen:\\nBefore we proceed any further, hear me speak.\\n\\nAll:\\nSpeak, speak.\\n\\nFirst Citizen:\\nYou '\n",
            "b'are all resolved rather to die than to famish?\\n\\nAll:\\nResolved. resolved.\\n\\nFirst Citizen:\\nFirst, you k'\n",
            "b\"now Caius Marcius is chief enemy to the people.\\n\\nAll:\\nWe know't, we know't.\\n\\nFirst Citizen:\\nLet us ki\"\n",
            "b\"ll him, and we'll have corn at our own price.\\nIs't a verdict?\\n\\nAll:\\nNo more talking on't; let it be d\"\n",
            "b'one: away, away!\\n\\nSecond Citizen:\\nOne word, good citizens.\\n\\nFirst Citizen:\\nWe are accounted poor citi'\n"
          ]
        }
      ]
    },
    {
      "cell_type": "code",
      "source": [
        "def split_input_target(sequence):\n",
        "  input_text = sequence[:-1]\n",
        "  target_text = sequence[1:]\n",
        "  return input_text, target_text"
      ],
      "metadata": {
        "id": "vTHnCduAAqWV"
      },
      "execution_count": null,
      "outputs": []
    },
    {
      "cell_type": "code",
      "source": [
        "split_input_target(list(\"Tensorflow\"))"
      ],
      "metadata": {
        "colab": {
          "base_uri": "https://localhost:8080/"
        },
        "id": "pFbHo0PsA2T8",
        "outputId": "def0dcb8-1ca0-477a-c633-a63dc8f40928"
      },
      "execution_count": null,
      "outputs": [
        {
          "output_type": "execute_result",
          "data": {
            "text/plain": [
              "(['T', 'e', 'n', 's', 'o', 'r', 'f', 'l', 'o'],\n",
              " ['e', 'n', 's', 'o', 'r', 'f', 'l', 'o', 'w'])"
            ]
          },
          "metadata": {},
          "execution_count": 148
        }
      ]
    },
    {
      "cell_type": "code",
      "source": [
        "dataset = sequences.map(split_input_target)"
      ],
      "metadata": {
        "id": "8sJOKC2tA3FZ"
      },
      "execution_count": null,
      "outputs": []
    },
    {
      "cell_type": "code",
      "source": [
        "for input_example, target_example in dataset.take(1):\n",
        "  print(\"Input :\", text_from_ids(input_example).numpy())\n",
        "  print(\"Target:\", text_from_ids(target_example).numpy())"
      ],
      "metadata": {
        "colab": {
          "base_uri": "https://localhost:8080/"
        },
        "id": "8SnXfGP3A7PN",
        "outputId": "4efe99a6-511b-4244-a2c0-38aee93cccc7"
      },
      "execution_count": null,
      "outputs": [
        {
          "output_type": "stream",
          "name": "stdout",
          "text": [
            "Input : b'First Citizen:\\nBefore we proceed any further, hear me speak.\\n\\nAll:\\nSpeak, speak.\\n\\nFirst Citizen:\\nYou'\n",
            "Target: b'irst Citizen:\\nBefore we proceed any further, hear me speak.\\n\\nAll:\\nSpeak, speak.\\n\\nFirst Citizen:\\nYou '\n"
          ]
        }
      ]
    },
    {
      "cell_type": "markdown",
      "source": [
        "**Membuat Batch Training**"
      ],
      "metadata": {
        "id": "LMNJIt6qBFgU"
      }
    },
    {
      "cell_type": "code",
      "source": [
        "# Batch size\n",
        "BATCH_SIZE = 64\n",
        "\n",
        "# Buffer size to shuffle the dataset\n",
        "# (TF data is designed to work with possibly infinite sequences,\n",
        "# so it doesn't attempt to shuffle the entire sequence in memory. Instead,\n",
        "# it maintains a buffer in which it shuffles elements).\n",
        "BUFFER_SIZE = 10000\n",
        "\n",
        "dataset = (\n",
        "    dataset\n",
        "    .shuffle(BUFFER_SIZE)\n",
        "    .batch(BATCH_SIZE, drop_remainder=True)\n",
        "    .prefetch(tf.data.experimental.AUTOTUNE))\n",
        "\n",
        "dataset"
      ],
      "metadata": {
        "colab": {
          "base_uri": "https://localhost:8080/"
        },
        "id": "GJU9vWbrBC-V",
        "outputId": "25eae430-6b5e-4fe1-e028-4640d459df13"
      },
      "execution_count": null,
      "outputs": [
        {
          "output_type": "execute_result",
          "data": {
            "text/plain": [
              "<_PrefetchDataset element_spec=(TensorSpec(shape=(64, 100), dtype=tf.int64, name=None), TensorSpec(shape=(64, 100), dtype=tf.int64, name=None))>"
            ]
          },
          "metadata": {},
          "execution_count": 151
        }
      ]
    },
    {
      "cell_type": "markdown",
      "source": [
        "###Buat Model"
      ],
      "metadata": {
        "id": "T9rIAD9VBJ_E"
      }
    },
    {
      "cell_type": "code",
      "source": [
        "# Length of the vocabulary in StringLookup Layer\n",
        "vocab_size = len(ids_from_chars.get_vocabulary())\n",
        "\n",
        "# The embedding dimension\n",
        "embedding_dim = 256\n",
        "\n",
        "# Number of RNN units\n",
        "rnn_units = 1024"
      ],
      "metadata": {
        "id": "B2vdXQTuBMSN"
      },
      "execution_count": null,
      "outputs": []
    },
    {
      "cell_type": "code",
      "source": [
        "class MyModel(tf.keras.Model):\n",
        "  def __init__(self, vocab_size, embedding_dim, rnn_units):\n",
        "    super().__init__(self)\n",
        "    self.embedding = tf.keras.layers.Embedding(vocab_size, embedding_dim)\n",
        "    self.gru = tf.keras.layers.GRU(rnn_units,\n",
        "                                   return_sequences=True,\n",
        "                                   return_state=True)\n",
        "    self.dense = tf.keras.layers.Dense(vocab_size)\n",
        "\n",
        "  def call(self, inputs, states=None, return_state=False, training=False):\n",
        "    x = inputs\n",
        "    x = self.embedding(x, training=training)\n",
        "    if states is None:\n",
        "      states = self.gru.get_initial_state(x)\n",
        "    x, states = self.gru(x, initial_state=states, training=training)\n",
        "    x = self.dense(x, training=training)\n",
        "\n",
        "    if return_state:\n",
        "      return x, states\n",
        "    else:\n",
        "      return x"
      ],
      "metadata": {
        "id": "sUUjpQ50BNpv"
      },
      "execution_count": null,
      "outputs": []
    },
    {
      "cell_type": "code",
      "source": [
        "model = MyModel(\n",
        "    vocab_size=vocab_size,\n",
        "    embedding_dim=embedding_dim,\n",
        "    rnn_units=rnn_units)"
      ],
      "metadata": {
        "id": "3k-f10lnBP2j"
      },
      "execution_count": null,
      "outputs": []
    },
    {
      "cell_type": "markdown",
      "source": [
        "###Uji Model"
      ],
      "metadata": {
        "id": "adf5Ml-XBR1N"
      }
    },
    {
      "cell_type": "code",
      "source": [
        "for input_example_batch, target_example_batch in dataset.take(1):\n",
        "    example_batch_predictions = model(input_example_batch)\n",
        "    print(example_batch_predictions.shape, \"# (batch_size, sequence_length, vocab_size)\")"
      ],
      "metadata": {
        "colab": {
          "base_uri": "https://localhost:8080/"
        },
        "id": "sXBgxXoKBTpE",
        "outputId": "e8b94ac3-d067-4c3a-b91d-3ffcbc310338"
      },
      "execution_count": null,
      "outputs": [
        {
          "output_type": "stream",
          "name": "stdout",
          "text": [
            "(64, 100, 66) # (batch_size, sequence_length, vocab_size)\n"
          ]
        }
      ]
    },
    {
      "cell_type": "code",
      "source": [
        "model.summary()"
      ],
      "metadata": {
        "colab": {
          "base_uri": "https://localhost:8080/"
        },
        "id": "tLCdl8EYBVDb",
        "outputId": "a25172bf-66f5-4c53-9359-11b3895cb8a9"
      },
      "execution_count": null,
      "outputs": [
        {
          "output_type": "stream",
          "name": "stdout",
          "text": [
            "Model: \"my_model_1\"\n",
            "_________________________________________________________________\n",
            " Layer (type)                Output Shape              Param #   \n",
            "=================================================================\n",
            " embedding_11 (Embedding)    multiple                  16896     \n",
            "                                                                 \n",
            " gru_7 (GRU)                 multiple                  3938304   \n",
            "                                                                 \n",
            " dense_15 (Dense)            multiple                  67650     \n",
            "                                                                 \n",
            "=================================================================\n",
            "Total params: 4022850 (15.35 MB)\n",
            "Trainable params: 4022850 (15.35 MB)\n",
            "Non-trainable params: 0 (0.00 Byte)\n",
            "_________________________________________________________________\n"
          ]
        }
      ]
    },
    {
      "cell_type": "code",
      "source": [
        "sampled_indices = tf.random.categorical(example_batch_predictions[0], num_samples=1)\n",
        "sampled_indices =  tf.squeeze(sampled_indices, axis=-1).numpy()"
      ],
      "metadata": {
        "id": "gw6HgRnEBW2e"
      },
      "execution_count": null,
      "outputs": []
    },
    {
      "cell_type": "code",
      "source": [
        "sampled_indices"
      ],
      "metadata": {
        "colab": {
          "base_uri": "https://localhost:8080/"
        },
        "id": "9M6DBrxKBcnj",
        "outputId": "fd7a328e-e1cf-4cae-9973-64d5928693aa"
      },
      "execution_count": null,
      "outputs": [
        {
          "output_type": "execute_result",
          "data": {
            "text/plain": [
              "array([39, 40, 18,  8, 46, 64, 38,  2, 59,  4, 18, 32, 15, 11, 63, 40,  4,\n",
              "       50, 49, 48, 27, 57, 63, 35, 25,  6, 28, 59, 33, 25, 34, 36, 57, 33,\n",
              "       64,  4, 65, 38, 61, 26, 49, 12, 56, 17, 22, 35, 10, 52,  4, 51, 34,\n",
              "       30, 63, 15, 13, 30, 64, 23, 63, 20,  5, 51, 32, 58, 21, 13,  3, 61,\n",
              "       33, 38,  1, 17, 65, 27, 36, 31, 46, 26,  1, 30, 64, 12,  0, 46, 14,\n",
              "        8, 60,  2, 50, 23, 60, 18,  4, 29, 18, 17, 54, 26,  3, 51])"
            ]
          },
          "metadata": {},
          "execution_count": 158
        }
      ]
    },
    {
      "cell_type": "code",
      "source": [
        "print(\"Input:\\n\", text_from_ids(input_example_batch[0]).numpy())\n",
        "print()\n",
        "print(\"Next Char Predictions:\\n\", text_from_ids(sampled_indices).numpy())"
      ],
      "metadata": {
        "colab": {
          "base_uri": "https://localhost:8080/"
        },
        "id": "HSv9vltGBeBl",
        "outputId": "2baafaf4-4d1c-4958-dd1a-37f42bc24830"
      },
      "execution_count": null,
      "outputs": [
        {
          "output_type": "stream",
          "name": "stdout",
          "text": [
            "Input:\n",
            " b\"lly indeed to all estates,--\\nYet whether you accept our suit or no,\\nYour brother's son shall never r\"\n",
            "\n",
            "Next Char Predictions:\n",
            " b\"ZaE-gyY t$ESB:xa$kjiNrxVL'OtTLUWrTy$zYvMj;qDIV3m$lUQxB?QyJxG&lSsH?!vTY\\nDzNWRgM\\nQy;[UNK]gA-u kJuE$PEDoM!l\"\n"
          ]
        }
      ]
    },
    {
      "cell_type": "markdown",
      "source": [
        "###Train Model"
      ],
      "metadata": {
        "id": "h_Tz63E8BjUq"
      }
    },
    {
      "cell_type": "markdown",
      "source": [
        "**Tambahan optimizer dan fungsi loss**"
      ],
      "metadata": {
        "id": "RNtWcySqBnbq"
      }
    },
    {
      "cell_type": "code",
      "source": [
        "loss = tf.losses.SparseCategoricalCrossentropy(from_logits=True)"
      ],
      "metadata": {
        "id": "WJkOTfXfBl2F"
      },
      "execution_count": null,
      "outputs": []
    },
    {
      "cell_type": "code",
      "source": [
        "example_batch_mean_loss = loss(target_example_batch, example_batch_predictions)\n",
        "print(\"Prediction shape: \", example_batch_predictions.shape, \" # (batch_size, sequence_length, vocab_size)\")\n",
        "print(\"Mean loss:        \", example_batch_mean_loss)"
      ],
      "metadata": {
        "colab": {
          "base_uri": "https://localhost:8080/"
        },
        "id": "k0aNlXMMBr6K",
        "outputId": "fc2add49-d567-4b0a-b0a2-30b23403b7d6"
      },
      "execution_count": null,
      "outputs": [
        {
          "output_type": "stream",
          "name": "stdout",
          "text": [
            "Prediction shape:  (64, 100, 66)  # (batch_size, sequence_length, vocab_size)\n",
            "Mean loss:         tf.Tensor(4.189457, shape=(), dtype=float32)\n"
          ]
        }
      ]
    },
    {
      "cell_type": "code",
      "source": [
        "tf.exp(example_batch_mean_loss).numpy()"
      ],
      "metadata": {
        "colab": {
          "base_uri": "https://localhost:8080/"
        },
        "id": "BNcoAWxdBu4-",
        "outputId": "0a15274b-ab3a-4405-8324-1f15d8c6f1f7"
      },
      "execution_count": null,
      "outputs": [
        {
          "output_type": "execute_result",
          "data": {
            "text/plain": [
              "65.986946"
            ]
          },
          "metadata": {},
          "execution_count": 162
        }
      ]
    },
    {
      "cell_type": "code",
      "source": [
        "model.compile(optimizer='adam', loss=loss)"
      ],
      "metadata": {
        "id": "xvwXM4nTBvdZ"
      },
      "execution_count": null,
      "outputs": []
    },
    {
      "cell_type": "markdown",
      "source": [
        "**Konfigurasi Checkpoints**"
      ],
      "metadata": {
        "id": "I0i2RnN2BzF5"
      }
    },
    {
      "cell_type": "code",
      "source": [
        "# Directory where the checkpoints will be saved\n",
        "checkpoint_dir = './training_checkpoints'\n",
        "# Name of the checkpoint files\n",
        "checkpoint_prefix = os.path.join(checkpoint_dir, \"ckpt_{epoch}\")\n",
        "\n",
        "checkpoint_callback = tf.keras.callbacks.ModelCheckpoint(\n",
        "    filepath=checkpoint_prefix,\n",
        "    save_weights_only=True)"
      ],
      "metadata": {
        "id": "YsBLKzmYBxYO"
      },
      "execution_count": null,
      "outputs": []
    },
    {
      "cell_type": "markdown",
      "source": [
        "**Lakukan Proses Training**"
      ],
      "metadata": {
        "id": "I3PdYkaXB3Nz"
      }
    },
    {
      "cell_type": "code",
      "source": [
        "EPOCHS = 20"
      ],
      "metadata": {
        "id": "9GfCa5bOB4zx"
      },
      "execution_count": null,
      "outputs": []
    },
    {
      "cell_type": "code",
      "source": [
        "history = model.fit(dataset, epochs=EPOCHS, callbacks=[checkpoint_callback])"
      ],
      "metadata": {
        "colab": {
          "base_uri": "https://localhost:8080/"
        },
        "id": "mRQI90mMB7U-",
        "outputId": "c91a898b-e955-45aa-98c1-f92c1a13fec1"
      },
      "execution_count": null,
      "outputs": [
        {
          "output_type": "stream",
          "name": "stdout",
          "text": [
            "Epoch 1/20\n",
            "172/172 [==============================] - 15s 66ms/step - loss: 2.7458\n",
            "Epoch 2/20\n",
            "172/172 [==============================] - 14s 62ms/step - loss: 1.9999\n",
            "Epoch 3/20\n",
            "172/172 [==============================] - 13s 62ms/step - loss: 1.7270\n",
            "Epoch 4/20\n",
            "172/172 [==============================] - 14s 61ms/step - loss: 1.5657\n",
            "Epoch 5/20\n",
            "172/172 [==============================] - 12s 61ms/step - loss: 1.4645\n",
            "Epoch 6/20\n",
            "172/172 [==============================] - 12s 62ms/step - loss: 1.3963\n",
            "Epoch 7/20\n",
            "172/172 [==============================] - 12s 62ms/step - loss: 1.3430\n",
            "Epoch 8/20\n",
            "172/172 [==============================] - 12s 62ms/step - loss: 1.2980\n",
            "Epoch 9/20\n",
            "172/172 [==============================] - 12s 62ms/step - loss: 1.2569\n",
            "Epoch 10/20\n",
            "172/172 [==============================] - 12s 61ms/step - loss: 1.2181\n",
            "Epoch 11/20\n",
            "172/172 [==============================] - 12s 62ms/step - loss: 1.1792\n",
            "Epoch 12/20\n",
            "172/172 [==============================] - 12s 62ms/step - loss: 1.1398\n",
            "Epoch 13/20\n",
            "172/172 [==============================] - 12s 61ms/step - loss: 1.0975\n",
            "Epoch 14/20\n",
            "172/172 [==============================] - 12s 61ms/step - loss: 1.0534\n",
            "Epoch 15/20\n",
            "172/172 [==============================] - 12s 62ms/step - loss: 1.0063\n",
            "Epoch 16/20\n",
            "172/172 [==============================] - 12s 61ms/step - loss: 0.9582\n",
            "Epoch 17/20\n",
            "172/172 [==============================] - 12s 62ms/step - loss: 0.9066\n",
            "Epoch 18/20\n",
            "172/172 [==============================] - 13s 62ms/step - loss: 0.8559\n",
            "Epoch 19/20\n",
            "172/172 [==============================] - 12s 61ms/step - loss: 0.8020\n",
            "Epoch 20/20\n",
            "172/172 [==============================] - 12s 61ms/step - loss: 0.7540\n"
          ]
        }
      ]
    },
    {
      "cell_type": "markdown",
      "source": [
        "###Generate Teks"
      ],
      "metadata": {
        "id": "LMRE_8PaCAca"
      }
    },
    {
      "cell_type": "code",
      "source": [
        "class OneStep(tf.keras.Model):\n",
        "  def __init__(self, model, chars_from_ids, ids_from_chars, temperature=1.0):\n",
        "    super().__init__()\n",
        "    self.temperature = temperature\n",
        "    self.model = model\n",
        "    self.chars_from_ids = chars_from_ids\n",
        "    self.ids_from_chars = ids_from_chars\n",
        "\n",
        "    # Create a mask to prevent \"[UNK]\" from being generated.\n",
        "    skip_ids = self.ids_from_chars(['[UNK]'])[:, None]\n",
        "    sparse_mask = tf.SparseTensor(\n",
        "        # Put a -inf at each bad index.\n",
        "        values=[-float('inf')]*len(skip_ids),\n",
        "        indices=skip_ids,\n",
        "        # Match the shape to the vocabulary\n",
        "        dense_shape=[len(ids_from_chars.get_vocabulary())])\n",
        "    self.prediction_mask = tf.sparse.to_dense(sparse_mask)\n",
        "\n",
        "  @tf.function\n",
        "  def generate_one_step(self, inputs, states=None):\n",
        "    # Convert strings to token IDs.\n",
        "    input_chars = tf.strings.unicode_split(inputs, 'UTF-8')\n",
        "    input_ids = self.ids_from_chars(input_chars).to_tensor()\n",
        "\n",
        "    # Run the model.\n",
        "    # predicted_logits.shape is [batch, char, next_char_logits]\n",
        "    predicted_logits, states = self.model(inputs=input_ids, states=states,\n",
        "                                          return_state=True)\n",
        "    # Only use the last prediction.\n",
        "    predicted_logits = predicted_logits[:, -1, :]\n",
        "    predicted_logits = predicted_logits/self.temperature\n",
        "    # Apply the prediction mask: prevent \"[UNK]\" from being generated.\n",
        "    predicted_logits = predicted_logits + self.prediction_mask\n",
        "\n",
        "    # Sample the output logits to generate token IDs.\n",
        "    predicted_ids = tf.random.categorical(predicted_logits, num_samples=1)\n",
        "    predicted_ids = tf.squeeze(predicted_ids, axis=-1)\n",
        "\n",
        "    # Convert from token ids to characters\n",
        "    predicted_chars = self.chars_from_ids(predicted_ids)\n",
        "\n",
        "    # Return the characters and model state.\n",
        "    return predicted_chars, states"
      ],
      "metadata": {
        "id": "NnXtu3lRB-xZ"
      },
      "execution_count": null,
      "outputs": []
    },
    {
      "cell_type": "code",
      "source": [
        "one_step_model = OneStep(model, chars_from_ids, ids_from_chars)"
      ],
      "metadata": {
        "id": "XVwcSIiXCGYp"
      },
      "execution_count": null,
      "outputs": []
    },
    {
      "cell_type": "code",
      "source": [
        "start = time.time()\n",
        "states = None\n",
        "next_char = tf.constant(['ROMEO:'])\n",
        "result = [next_char]\n",
        "\n",
        "for n in range(1000):\n",
        "  next_char, states = one_step_model.generate_one_step(next_char, states=states)\n",
        "  result.append(next_char)\n",
        "\n",
        "result = tf.strings.join(result)\n",
        "end = time.time()\n",
        "print(result[0].numpy().decode('utf-8'), '\\n\\n' + '_'*80)\n",
        "print('\\nRun time:', end - start)"
      ],
      "metadata": {
        "colab": {
          "base_uri": "https://localhost:8080/"
        },
        "id": "Yyc-50RECK0M",
        "outputId": "2108891f-7305-4486-917f-bca73a38d751"
      },
      "execution_count": null,
      "outputs": [
        {
          "output_type": "stream",
          "name": "stdout",
          "text": [
            "ROMEO:\n",
            "Do you between us!\n",
            "\n",
            "ALO:\n",
            "Stupper!\n",
            "\n",
            "HERMIONE:\n",
            "What?\n",
            "'Twas by nimble home, sir parson?\n",
            "\n",
            "Messenger:\n",
            "Yes, and my lord, it should be whipp'd in such\n",
            "anvocated stole? Buy follow'st think, is soonest please,\n",
            "I am deorled and still resign his curses.\n",
            "And how he found'st a kind tumbling thread?\n",
            "\n",
            "PARIS:\n",
            "You mistake, some harl; so were you so he hear hithers\n",
            "Made hig adoked and such a swelling grieving\n",
            "Mad what is hither have all unponsent,\n",
            "To say 'Will then the benefit there was a wive\n",
            "Equal scorn, with Geopla use,\n",
            "When I shall sloy your brother, God ye gods,\n",
            "In lamenyable breast whereop, Kate,\n",
            "Rather thank me on the villain's death.\n",
            "Had the very day she hangs upon me.\n",
            "\n",
            "KING EDWARD IV:\n",
            "Thy mother had a banish'd men of vast, and he is writ\n",
            "Shall fight in secret please to hide receives,\n",
            "And do it early beautio; and thou hast verrect me,\n",
            "who, if you lay would be on a lord, wherein\n",
            "You will not come from forth, consul!\n",
            "\n",
            "First Servingman:\n",
            "For he is call'd for's partine.\n",
            "\n",
            "RICHARD:\n",
            "ANGersonacle, that, \n",
            "\n",
            "________________________________________________________________________________\n",
            "\n",
            "Run time: 3.2839515209198\n"
          ]
        }
      ]
    },
    {
      "cell_type": "code",
      "source": [
        "start = time.time()\n",
        "states = None\n",
        "next_char = tf.constant(['ROMEO:', 'ROMEO:', 'ROMEO:', 'ROMEO:', 'ROMEO:'])\n",
        "result = [next_char]\n",
        "\n",
        "for n in range(1000):\n",
        "  next_char, states = one_step_model.generate_one_step(next_char, states=states)\n",
        "  result.append(next_char)\n",
        "\n",
        "result = tf.strings.join(result)\n",
        "end = time.time()\n",
        "print(result, '\\n\\n' + '_'*80)\n",
        "print('\\nRun time:', end - start)"
      ],
      "metadata": {
        "colab": {
          "base_uri": "https://localhost:8080/"
        },
        "id": "h8Jo6CtFCNG3",
        "outputId": "a1d2c725-9e15-4c55-8445-e49785bf15c4"
      },
      "execution_count": null,
      "outputs": [
        {
          "output_type": "stream",
          "name": "stdout",
          "text": [
            "tf.Tensor(\n",
            "[b\"ROMEO:\\nNow too make hearts may compeased.\\n\\nESCALUS:\\nGoodly, sir, this lady mooder hows:\\nGreat king indeed in a truth earth,\\nThat he needs dising it, 'tis well.\\n'Tis for the forest wife for Even when\\nI say to perceive my mind.\\nThese tastes--for her people break your hope,\\nVitting our harm in sighs and ease the heavensure\\nTo execute the child, has found me not,\\nThat raised unto them all condement, love,\\nAnd he will bear the swords of that kissess\\nDin realment to yourself.\\n\\nMIRANDA:\\nI know not. I saw her and his cut most liking\\npenulty.\\n\\nCAMILLO:\\nShe presents!\\nIs, that my sovereign liege approve.\\nShe is but from my neck, and little brow:\\nAnd so shall shearted with this king about!\\n\\nJULIET:\\nGone man! what's the very price that way\\n're still'd and will not pass.\\n\\nFLORIZEL:\\nThis was a good day's roy!\\n\\nPAULINA:\\nI am glad or born,\\nMaking him by the friends the party trial:\\nAnd as the rarityment teems unloads\\nmine honour, none but fools the friar in arms,\\nAnd I will pitiful from my life\\nEnsued and me\"\n",
            " b\"ROMEO:\\nGood-morrow, Clifford! had a traitor to't?\\n\\nFRIAR LAUREN:\\nEven in her tenched here, then, take him cold aid\\nOf Elbow friend, ake king in war.\\n\\nKING RICHARD II:\\nTalk not to me, that he should itle since\\nFrom all the city flowers at the lightning,\\nWhen every sons to see how tarry much be jucked\\ndalliess and thy soul's private.\\nWhat think you, let me give her tale?\\n\\nFirst Servingman:\\nWhat, myself unluckly babe, my lord?\\n\\nKING RICHARD III:\\nBlind in good time.\\n\\nPERDITA:\\nO lady, lords:\\nMy life is well: so you should keep me friend,\\nOne words?\\n\\nFirst Servingman:\\nNay, then e'er well debance,\\nAnd two cousins cheer's to point as I have spirit,\\nTo seed upon the sight as they were,\\nOr eye show me, and what the lightes hand\\nand doubt its: your suits be whips of her selding,\\nnay, in my part she is enterilent;\\nAnd I, being a soldier, blessed man!\\nWhat ever gentlewoman, or shall have lived\\nVouchsafe, upon my fighto take her rap\\nWe should have given again.\\n\\nFirst Senator:\\nTo tell my man, who's there?\\n\"\n",
            " b\"ROMEO:\\nWhat doth he so, him like a truth he hath cropp'd,\\nTo merry herein answer a thought would eacl,\\nNay, it shall not be\\nClarence cannot angels. True; let the dark night:\\nGo, abode the ground, the man that lies in arms\\nBe foul fallen for a Volsce, his state,\\nYou would muster me and married not another,\\nA loating victory bare and me;\\nThe would have leave sin coals the fall.\\n\\nShepherd:\\nPogs, breath, go thy comforts?\\n\\nABHORSON:\\nIn God's name, belike, unmistured;\\nAnd gid you better, ease, that thou best back's will,\\nWho lack of ceremont to sweet your special, takethy nest;\\nEncouse, dost thou fly there, bid you not call lack\\nThe imagined and full of woe.\\n\\nLEONTES:\\nIt cannot be dogs, and your fair prisoner sleep\\nThe merriment proclame with one may proud saints,\\nAnd blessed with the war, but one of the north,\\nThe moon of Rapar metres' habit,\\nThy unkindnces benefit in the mind of all admire\\nUnto the lord'st a tardy sir, and tears,\\nSo working with that London find thee set;\\nOr sound his severity s\"\n",
            " b\"ROMEO:\\nGentlemen, good night: let's go.\\n\\nAUFIDIUS:\\nNoble liege.\\n\\nFARD MARGARET:\\nIt was, good suit; I will obey'd and not must\\nFit for a fairer ready to courage fright.\\nO, let me marry her:\\nEven in that heaven will land you with\\nHis day of stronger sepulchre of the wind,\\nShowing, this back, which is the blushesy.\\nThy head, and there the king is Edward's;\\nand riggers themselves, that she is dasted gladom,\\nIn him tyrant breath that are the cause,\\nShould more apount me of the seas.\\n\\nLADY GREY:\\n'Tis but the gates of happiness comes to come upon the history\\nOf all proceedings, her be-upper heartial death:\\n'fore you along. Appear thus:\\nHe hath proclaim'd as well as is the storm, blush, found acquaint\\nYour charity, you'll be gone.\\nSirrah from this true, sir, to give us from his churchy.\\n\\nQUEEN:\\n'Tis bodom with the deed.\\n\\nCORIOLANUS:\\nAway, away;\\nYou'll resign until I see him say,\\nEven if angels here in Corioli's sorrow,\\nIncerts, careless, and their power.\\n\\nCOMINIUS:\\nWell, what, myself be else?' but b\"\n",
            " b\"ROMEO:\\nThese sorrows Romeo's, noisemond:\\n\\nPETRUCHIO:\\nAy, so much things to fight;\\nAnd stint thy lips, the first dot to be whipt: if the\\nship of King of Naples recreation.\\n\\nROMEO:\\nThey presently, yours.\\n\\nPARIS:\\nBroad should, turns us A brother Cruilin; for thou wilt perforce\\nTo Barnardine, you another fault:\\nAnd there his sword to Baptista Mineraid,\\nVive you anon the stitious wan, that it should\\nthey ranced by the wanton speaking,\\nThat is, are the model, and they still folly,\\nTo see you sopetual pray your passel:\\nAnd therefore Is! you are like to hard to come.\\n\\nBRUTUS:\\nWe know your willing saw so much\\nTo chide attend you at thy former daughter.\\nWhat good marriage He twan twelve fellow!\\nOr forth your cousin, weeping, naked,\\nBut, when he sputs: he's all the sight of mine\\nOr ho, is worthy bear; but never merry! what then?\\n\\nFirst Citizen:\\nFirst, hear me speak by weaghbous' faith, Earlandiness\\nWhen he would have a burthen tree,\\nBoth thou upon the shrike against their first shall Romeo\\nTrangling, o\"], shape=(5,), dtype=string) \n",
            "\n",
            "________________________________________________________________________________\n",
            "\n",
            "Run time: 3.383664608001709\n"
          ]
        }
      ]
    },
    {
      "cell_type": "markdown",
      "source": [
        "###Ekspor Model Generator"
      ],
      "metadata": {
        "id": "JAlGmU6NCPKT"
      }
    },
    {
      "cell_type": "code",
      "source": [
        "tf.saved_model.save(one_step_model, 'one_step')\n",
        "one_step_reloaded = tf.saved_model.load('one_step')"
      ],
      "metadata": {
        "colab": {
          "base_uri": "https://localhost:8080/"
        },
        "id": "ZlAWUnf9CRnZ",
        "outputId": "1223a4f6-53c4-49b0-b010-caa5bc2a82c5"
      },
      "execution_count": null,
      "outputs": [
        {
          "output_type": "stream",
          "name": "stderr",
          "text": [
            "WARNING:tensorflow:Skipping full serialization of Keras layer <__main__.OneStep object at 0x7ebc23def8e0>, because it is not built.\n",
            "WARNING:tensorflow:Model's `__init__()` arguments contain non-serializable objects. Please implement a `get_config()` method in the subclassed Model for proper saving and loading. Defaulting to empty config.\n",
            "WARNING:tensorflow:Model's `__init__()` arguments contain non-serializable objects. Please implement a `get_config()` method in the subclassed Model for proper saving and loading. Defaulting to empty config.\n"
          ]
        }
      ]
    },
    {
      "cell_type": "code",
      "source": [
        "states = None\n",
        "next_char = tf.constant(['ROMEO:'])\n",
        "result = [next_char]\n",
        "\n",
        "for n in range(100):\n",
        "  next_char, states = one_step_reloaded.generate_one_step(next_char, states=states)\n",
        "  result.append(next_char)\n",
        "\n",
        "print(tf.strings.join(result)[0].numpy().decode(\"utf-8\"))"
      ],
      "metadata": {
        "colab": {
          "base_uri": "https://localhost:8080/"
        },
        "id": "tXEQPT1yCSzJ",
        "outputId": "e9f9a89f-b675-47bd-9328-82236ac48b43"
      },
      "execution_count": null,
      "outputs": [
        {
          "output_type": "stream",
          "name": "stdout",
          "text": [
            "ROMEO:\n",
            "Blister us batf conserers in my mind;\n",
            "The loss of staturel, and fert it,\n",
            "One of our honour knows, y\n"
          ]
        }
      ]
    },
    {
      "cell_type": "markdown",
      "source": [
        "# TUGAS PRAKTIKUM"
      ],
      "metadata": {
        "id": "84oZLR3nl6GL"
      }
    },
    {
      "cell_type": "code",
      "source": [
        "class CustomTraining(MyModel):\n",
        " @tf.function\n",
        " def train_step(self, inputs):\n",
        "      inputs, labels = inputs\n",
        "      with tf.GradientTape() as tape:\n",
        "        predictions = self(inputs, training=True)\n",
        "        loss = self.loss(labels, predictions)\n",
        "      grads = tape.gradient(loss, model.trainable_variables)\n",
        "      self.optimizer.apply_gradients(zip(grads, model.trainable_variables))\n",
        "\n",
        "      return {'loss': loss}"
      ],
      "metadata": {
        "id": "tbpo_MpAaKmp"
      },
      "execution_count": null,
      "outputs": []
    },
    {
      "cell_type": "code",
      "source": [
        "model = CustomTraining(\n",
        "    vocab_size=len(ids_from_chars.get_vocabulary()),\n",
        "    embedding_dim=embedding_dim,\n",
        "    rnn_units=rnn_units)"
      ],
      "metadata": {
        "id": "O3wEkHdla3JV"
      },
      "execution_count": null,
      "outputs": []
    },
    {
      "cell_type": "code",
      "source": [
        "model.compile(optimizer = tf.keras.optimizers.Adam(),\n",
        "              loss=tf.keras.losses.SparseCategoricalCrossentropy(from_logits=True))"
      ],
      "metadata": {
        "id": "gdfMVr7gbTHg"
      },
      "execution_count": null,
      "outputs": []
    },
    {
      "cell_type": "code",
      "source": [
        "model.fit(dataset, epochs=1)"
      ],
      "metadata": {
        "colab": {
          "base_uri": "https://localhost:8080/"
        },
        "id": "jhKfFxtck98n",
        "outputId": "84cd857b-56b6-4459-a43c-367dc7e845c3"
      },
      "execution_count": null,
      "outputs": [
        {
          "output_type": "stream",
          "name": "stdout",
          "text": [
            "172/172 [==============================] - 16s 63ms/step - loss: 2.7348\n"
          ]
        },
        {
          "output_type": "execute_result",
          "data": {
            "text/plain": [
              "<keras.src.callbacks.History at 0x7ebc23d8fa30>"
            ]
          },
          "metadata": {},
          "execution_count": 176
        }
      ]
    },
    {
      "cell_type": "code",
      "source": [
        "EPOCHS = 10\n",
        "\n",
        "mean = tf.metrics.Mean()\n",
        "\n",
        "for epoch in range(EPOCHS):\n",
        "    start = time.time()\n",
        "\n",
        "    mean.reset_states()\n",
        "    for (batch_n, (inp, target)) in enumerate(dataset):\n",
        "      logs = model.train_step([inp, target])\n",
        "      mean.update_state(logs['loss'])\n",
        "\n",
        "      if batch_n % 50 == 0:\n",
        "         template = f\"Epoch {epoch+1} Batch {batch_n} Loss {logs['loss']:.4f}\"\n",
        "         print(template)\n",
        "\n",
        " # saving (checkpoint) the model every 5 epochs\n",
        "      if (epoch + 1) % 5 == 0:\n",
        "         model.save_weights(checkpoint_prefix.format(epoch=epoch))\n",
        "\n",
        "    print()\n",
        "    print(f'Epoch {epoch+1} Loss: {mean.result().numpy():.4f}')\n",
        "    print(f'Time taken for 1 epoch {time.time() - start:.2f} sec')\n",
        "    print(\"_\"*80)\n",
        "\n",
        "model.save_weights(checkpoint_prefix.format(epoch=epoch))"
      ],
      "metadata": {
        "id": "o-H-gwjJbXf5",
        "colab": {
          "base_uri": "https://localhost:8080/"
        },
        "outputId": "dfd00676-1a02-42ba-c269-7172d5c3d174"
      },
      "execution_count": null,
      "outputs": [
        {
          "output_type": "stream",
          "name": "stdout",
          "text": [
            "Epoch 1 Batch 0 Loss 2.1919\n",
            "Epoch 1 Batch 50 Loss 2.0572\n",
            "Epoch 1 Batch 100 Loss 1.9486\n",
            "Epoch 1 Batch 150 Loss 1.8605\n",
            "\n",
            "Epoch 1 Loss: 2.0002\n",
            "Time taken for 1 epoch 13.45 sec\n",
            "________________________________________________________________________________\n",
            "Epoch 2 Batch 0 Loss 1.8112\n",
            "Epoch 2 Batch 50 Loss 1.8218\n",
            "Epoch 2 Batch 100 Loss 1.7476\n",
            "Epoch 2 Batch 150 Loss 1.6371\n",
            "\n",
            "Epoch 2 Loss: 1.7173\n",
            "Time taken for 1 epoch 12.27 sec\n",
            "________________________________________________________________________________\n",
            "Epoch 3 Batch 0 Loss 1.5860\n",
            "Epoch 3 Batch 50 Loss 1.5454\n",
            "Epoch 3 Batch 100 Loss 1.5495\n",
            "Epoch 3 Batch 150 Loss 1.5537\n",
            "\n",
            "Epoch 3 Loss: 1.5521\n",
            "Time taken for 1 epoch 12.19 sec\n",
            "________________________________________________________________________________\n",
            "Epoch 4 Batch 0 Loss 1.4577\n",
            "Epoch 4 Batch 50 Loss 1.4496\n",
            "Epoch 4 Batch 100 Loss 1.4229\n",
            "Epoch 4 Batch 150 Loss 1.4151\n",
            "\n",
            "Epoch 4 Loss: 1.4515\n",
            "Time taken for 1 epoch 11.81 sec\n",
            "________________________________________________________________________________\n",
            "Epoch 5 Batch 0 Loss 1.4222\n",
            "Epoch 5 Batch 50 Loss 1.3875\n",
            "Epoch 5 Batch 100 Loss 1.3891\n",
            "Epoch 5 Batch 150 Loss 1.3523\n",
            "\n",
            "Epoch 5 Loss: 1.3835\n",
            "Time taken for 1 epoch 47.43 sec\n",
            "________________________________________________________________________________\n",
            "Epoch 6 Batch 0 Loss 1.3611\n",
            "Epoch 6 Batch 50 Loss 1.3519\n",
            "Epoch 6 Batch 100 Loss 1.3209\n",
            "Epoch 6 Batch 150 Loss 1.3551\n",
            "\n",
            "Epoch 6 Loss: 1.3310\n",
            "Time taken for 1 epoch 11.68 sec\n",
            "________________________________________________________________________________\n",
            "Epoch 7 Batch 0 Loss 1.2472\n",
            "Epoch 7 Batch 50 Loss 1.2765\n",
            "Epoch 7 Batch 100 Loss 1.2673\n",
            "Epoch 7 Batch 150 Loss 1.2695\n",
            "\n",
            "Epoch 7 Loss: 1.2849\n",
            "Time taken for 1 epoch 12.04 sec\n",
            "________________________________________________________________________________\n",
            "Epoch 8 Batch 0 Loss 1.2319\n",
            "Epoch 8 Batch 50 Loss 1.2472\n",
            "Epoch 8 Batch 100 Loss 1.2225\n",
            "Epoch 8 Batch 150 Loss 1.2565\n",
            "\n",
            "Epoch 8 Loss: 1.2432\n",
            "Time taken for 1 epoch 12.10 sec\n",
            "________________________________________________________________________________\n",
            "Epoch 9 Batch 0 Loss 1.1736\n",
            "Epoch 9 Batch 50 Loss 1.1950\n",
            "Epoch 9 Batch 100 Loss 1.1949\n",
            "Epoch 9 Batch 150 Loss 1.2218\n",
            "\n",
            "Epoch 9 Loss: 1.2044\n",
            "Time taken for 1 epoch 12.13 sec\n",
            "________________________________________________________________________________\n",
            "Epoch 10 Batch 0 Loss 1.1528\n",
            "Epoch 10 Batch 50 Loss 1.1480\n",
            "Epoch 10 Batch 100 Loss 1.1877\n",
            "Epoch 10 Batch 150 Loss 1.1748\n",
            "\n",
            "Epoch 10 Loss: 1.1647\n",
            "Time taken for 1 epoch 40.62 sec\n",
            "________________________________________________________________________________\n"
          ]
        }
      ]
    }
  ],
  "metadata": {
    "colab": {
      "provenance": [],
      "gpuType": "T4",
      "authorship_tag": "ABX9TyNpq5J0dEIg5UWk33HUC7sP",
      "include_colab_link": true
    },
    "kernelspec": {
      "display_name": "Python 3",
      "name": "python3"
    },
    "language_info": {
      "name": "python"
    },
    "accelerator": "GPU"
  },
  "nbformat": 4,
  "nbformat_minor": 0
}